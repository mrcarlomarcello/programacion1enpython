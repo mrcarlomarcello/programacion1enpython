{
 "cells": [
  {
   "cell_type": "code",
   "execution_count": 11,
   "id": "588126f5",
   "metadata": {},
   "outputs": [
    {
     "name": "stdout",
     "output_type": "stream",
     "text": [
      "hi, Esto es un Juego de video!\n"
     ]
    }
   ],
   "source": [
    "print(\"hi, Esto es un Juego de video!\")"
   ]
  },
  {
   "cell_type": "code",
   "execution_count": 21,
   "id": "585bce1f",
   "metadata": {},
   "outputs": [
    {
     "name": "stdout",
     "output_type": "stream",
     "text": [
      "Ingresa el primer numero: 63\n"
     ]
    }
   ],
   "source": [
    "num1 = int(input(\"Ingresa el primer numero: \"))"
   ]
  },
  {
   "cell_type": "code",
   "execution_count": 22,
   "id": "27be8fe2",
   "metadata": {},
   "outputs": [
    {
     "name": "stdout",
     "output_type": "stream",
     "text": [
      "Ingresa el segundo numero: 93\n"
     ]
    }
   ],
   "source": [
    "num2 = int(input(\"Ingresa el segundo numero: \"))"
   ]
  },
  {
   "cell_type": "code",
   "execution_count": 23,
   "id": "281fd8f2",
   "metadata": {},
   "outputs": [
    {
     "name": "stdout",
     "output_type": "stream",
     "text": [
      "33\n"
     ]
    }
   ],
   "source": [
    "if (num1%10==3 and num2%10==3):\n",
    "    print(\"33\")\n",
    "elif (num1%10==3 or num2%10==3):\n",
    "    print(\"3\")\n",
    "else:\n",
    "    print(num1+num2)"
   ]
  },
  {
   "cell_type": "code",
   "execution_count": null,
   "id": "3b383b7a",
   "metadata": {},
   "outputs": [],
   "source": []
  }
 ],
 "metadata": {
  "kernelspec": {
   "display_name": "Python 3 (ipykernel)",
   "language": "python",
   "name": "python3"
  },
  "language_info": {
   "codemirror_mode": {
    "name": "ipython",
    "version": 3
   },
   "file_extension": ".py",
   "mimetype": "text/x-python",
   "name": "python",
   "nbconvert_exporter": "python",
   "pygments_lexer": "ipython3",
   "version": "3.9.7"
  }
 },
 "nbformat": 4,
 "nbformat_minor": 5
}
